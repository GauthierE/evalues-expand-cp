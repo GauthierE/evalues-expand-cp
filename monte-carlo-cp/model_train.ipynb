{
 "cells": [
  {
   "cell_type": "code",
   "execution_count": null,
   "id": "6147ca0f-c33d-4dbe-b0ae-db7bf712a13a",
   "metadata": {},
   "outputs": [],
   "source": [
    "# import required packages\n",
    "import torch\n",
    "import torch.nn as nn\n",
    "import torch.optim as optim\n",
    "import torch.nn.functional as F\n",
    "import torch.backends.cudnn as cudnn\n",
    "import torchvision\n",
    "import torchvision.transforms as transforms\n",
    "import os\n",
    "import argparse\n",
    "from models import *\n",
    "from torchsummary import summary\n",
    "import matplotlib.pyplot as plt\n",
    "import json\n",
    "from IPython.display import FileLink, display\n",
    "%matplotlib inline"
   ]
  },
  {
   "cell_type": "code",
   "execution_count": null,
   "id": "c6795a23-89c0-40d9-bc6d-44044a2e47c5",
   "metadata": {},
   "outputs": [],
   "source": [
    "# hyperparamters to adjust\n",
    "model = \"EfficientNetB0\"\n",
    "lr = 0.1\n",
    "epochs = 100\n",
    "batch_size = 512\n",
    "optimizer = \"SGD\"\n",
    "has_data_aug = 1\n",
    "\n",
    "filename = model + \"_\" + str(lr) + \"_\" + str(epochs) + \"_\" + str(batch_size) + \"_\" + optimizer + \"_\" + str(has_data_aug)\n",
    "# Example file format\n",
    "print(filename)"
   ]
  },
  {
   "cell_type": "code",
   "execution_count": null,
   "id": "af3e4874-cc16-49c9-8fe5-1ae11402a607",
   "metadata": {},
   "outputs": [],
   "source": [
    "device = 'cuda' if torch.cuda.is_available() else 'cpu'\n",
    "print(device)\n",
    "best_acc = 0\n",
    "start_epoch = 0"
   ]
  },
  {
   "cell_type": "code",
   "execution_count": null,
   "id": "6282e0af-11e0-4aa6-b57f-652cc4349f34",
   "metadata": {},
   "outputs": [],
   "source": [
    "# Data\n",
    "if has_data_aug:\n",
    "    transform_train = transforms.Compose([\n",
    "        transforms.RandomCrop(32, padding=4),\n",
    "        transforms.RandomHorizontalFlip(),\n",
    "        transforms.ToTensor(),\n",
    "        transforms.Normalize((0.4914, 0.4822, 0.4465), (0.2023, 0.1994, 0.2010)),\n",
    "    ])\n",
    "else:\n",
    "    transform_train = transforms.Compose([\n",
    "        transforms.ToTensor(),\n",
    "        transforms.Normalize((0.4914, 0.4822, 0.4465), (0.2023, 0.1994, 0.2010)),\n",
    "    ])\n",
    "\n",
    "transform_test = transforms.Compose([\n",
    "    transforms.ToTensor(),\n",
    "    transforms.Normalize((0.4914, 0.4822, 0.4465), (0.2023, 0.1994, 0.2010)),\n",
    "])\n",
    "\n",
    "trainset = torchvision.datasets.CIFAR10(\n",
    "    root='./data', train=True, download=True, transform=transform_train)\n",
    "trainloader = torch.utils.data.DataLoader(\n",
    "    trainset, batch_size=batch_size, shuffle=True, num_workers=5)\n",
    "\n",
    "testset = torchvision.datasets.CIFAR10(\n",
    "    root='./data', train=False, download=True, transform=transform_test)\n",
    "testloader = torch.utils.data.DataLoader(\n",
    "    testset, batch_size=100, shuffle=False, num_workers=5)\n",
    "\n",
    "classes = ('plane', 'car', 'bird', 'cat', 'deer',\n",
    "           'dog', 'frog', 'horse', 'ship', 'truck')"
   ]
  },
  {
   "cell_type": "code",
   "execution_count": null,
   "id": "656c42ee-cee1-4563-b633-1eb5ba1eaf72",
   "metadata": {},
   "outputs": [],
   "source": [
    "# model\n",
    "net = EfficientNetB0() \n",
    "\n",
    "net = net.to(device)\n",
    "if device == 'cuda':\n",
    "    net = torch.nn.DataParallel(net)\n",
    "    cudnn.benchmark = True\n",
    "\n",
    "criterion = nn.CrossEntropyLoss()\n",
    "optimizer = optim.SGD(net.parameters(), lr=lr,momentum=0.9, weight_decay=5e-4)\n",
    "scheduler = torch.optim.lr_scheduler.CosineAnnealingLR(optimizer, T_max=100)"
   ]
  },
  {
   "cell_type": "code",
   "execution_count": null,
   "id": "c65bf12f-1a5c-406b-aa63-cad8d7808591",
   "metadata": {},
   "outputs": [],
   "source": [
    "# training\n",
    "from tqdm import tqdm\n",
    "def train(epoch):\n",
    "    net.train()\n",
    "    train_loss = 0\n",
    "    correct = 0\n",
    "    total = 0\n",
    "    for (inputs, targets) in tqdm((trainloader)):\n",
    "        inputs, targets = inputs.to(device), targets.to(device)\n",
    "        optimizer.zero_grad()\n",
    "        outputs = net(inputs)\n",
    "        loss = criterion(outputs, targets)\n",
    "        loss.backward()\n",
    "        optimizer.step()\n",
    "\n",
    "        train_loss += loss.item()\n",
    "        _, predicted = outputs.max(1)\n",
    "        total += targets.size(0)\n",
    "        correct += predicted.eq(targets).sum().item()\n",
    "\n",
    "    return train_loss/len(trainloader), correct/total"
   ]
  },
  {
   "cell_type": "code",
   "execution_count": null,
   "id": "469cc6be-4237-4e12-9a8f-51a959801ad6",
   "metadata": {},
   "outputs": [],
   "source": [
    "# testing\n",
    "def test(epoch):\n",
    "    global best_acc\n",
    "    net.eval()\n",
    "    test_loss = 0\n",
    "    correct = 0\n",
    "    total = 0\n",
    "    with torch.no_grad():\n",
    "        for  (inputs, targets) in tqdm(testloader):\n",
    "            inputs, targets = inputs.to(device), targets.to(device)\n",
    "            outputs = net(inputs)\n",
    "            loss = criterion(outputs, targets)\n",
    "\n",
    "            test_loss += loss.item()\n",
    "            _, predicted = outputs.max(1)\n",
    "            total += targets.size(0)\n",
    "            correct += predicted.eq(targets).sum().item()\n",
    "\n",
    "    # Save checkpoint.\n",
    "    acc = 100.*correct/total\n",
    "    if acc > best_acc:\n",
    "        print('Saving..')\n",
    "        state = {\n",
    "            'net': net.state_dict(),\n",
    "            'acc': acc,\n",
    "            'epoch': epoch,\n",
    "        }\n",
    "        if not os.path.isdir('checkpoint'):\n",
    "            os.mkdir('checkpoint')\n",
    "        torch.save(state, './checkpoint/' + filename + '.pth')\n",
    "        best_acc = acc\n",
    "\n",
    "    return test_loss/len(testloader), correct/total"
   ]
  },
  {
   "cell_type": "code",
   "execution_count": null,
   "id": "2d940b3c-0967-4e7a-9542-023cf19241c7",
   "metadata": {},
   "outputs": [],
   "source": [
    "def plotLoss():\n",
    "    plt.plot(range(epochs), history['train_loss'], '-', linewidth=3, label='Train Loss')\n",
    "    plt.plot(range(epochs), history['test_loss'], '-', linewidth=3, label='Test Loss')\n",
    "    plt.xlabel('epoch')\n",
    "    plt.ylabel('loss')\n",
    "    plt.grid(True)\n",
    "    plt.legend()\n",
    "    plt.show()\n",
    "\n",
    "def plotAcc():\n",
    "    plt.plot(range(epochs), history['train_acc'], '-', linewidth=3, label='Train Acc')\n",
    "    plt.plot(range(epochs), history['test_acc'], '-', linewidth=3, label='Test Acc')\n",
    "    plt.xlabel('epoch')\n",
    "    plt.ylabel('accuracy')\n",
    "    plt.grid(True)\n",
    "    plt.legend()\n",
    "    plt.show()"
   ]
  },
  {
   "cell_type": "code",
   "execution_count": null,
   "id": "cfa802b1-f180-49e7-a912-f578aaa31872",
   "metadata": {},
   "outputs": [],
   "source": [
    "train_loss_history = []\n",
    "test_loss_history = []\n",
    "train_acc_history = []\n",
    "test_acc_history = []\n",
    "\n",
    "history = {\n",
    "    'train_loss': [],\n",
    "    'test_loss': [],\n",
    "    'train_acc': [],\n",
    "    'test_acc': []\n",
    "}\n",
    "\n",
    "for epoch in range(start_epoch, start_epoch+epochs):\n",
    "\n",
    "    print('\\nEpoch: %d' % epoch)\n",
    "    train_loss, train_acc = train(epoch)\n",
    "\n",
    "    print(\"Train \\tLoss: %.3f | Acc: %.3f\" % (train_loss, train_acc))\n",
    "\n",
    "    test_loss, test_acc = test(epoch)\n",
    "    # print('Test')\n",
    "    print(\"Test \\tLoss: %.3f | Acc: %.3f\" % (test_loss, test_acc))\n",
    "\n",
    "    history['train_loss'].append(train_loss)\n",
    "    history['test_loss'].append(test_loss)\n",
    "    history['train_acc'].append(train_acc)\n",
    "    history['test_acc'].append(test_acc)\n",
    "\n",
    "    scheduler.step()\n"
   ]
  },
  {
   "cell_type": "code",
   "execution_count": null,
   "id": "6d13b9ec",
   "metadata": {},
   "outputs": [],
   "source": [
    "torch.save(net.state_dict(), \"weights/\"+filename)\n",
    "print(f\"Model weights saved to: weights/{filename}\")"
   ]
  },
  {
   "cell_type": "code",
   "execution_count": null,
   "id": "9745c815-ab03-4e50-b428-67417520e180",
   "metadata": {},
   "outputs": [],
   "source": [
    "plotAcc()"
   ]
  },
  {
   "cell_type": "code",
   "execution_count": null,
   "id": "dd8b6699-1aa2-4721-9bc0-8cf98d2b21ec",
   "metadata": {},
   "outputs": [],
   "source": [
    "plotLoss()"
   ]
  },
  {
   "cell_type": "code",
   "execution_count": null,
   "id": "22ed7e42-f0b2-4462-8ad6-81aa17886a1e",
   "metadata": {},
   "outputs": [],
   "source": [
    "import pickle\n",
    "\n",
    "with open(\"results/history_\"+filename, \"wb\") as f:\n",
    "    pickle.dump(history, f)\n",
    "print(f\"Dictionary saved to results/history_\"+filename)"
   ]
  }
 ],
 "metadata": {
  "kernelspec": {
   "display_name": "Python 3",
   "language": "python",
   "name": "python3"
  },
  "language_info": {
   "codemirror_mode": {
    "name": "ipython",
    "version": 3
   },
   "file_extension": ".py",
   "mimetype": "text/x-python",
   "name": "python",
   "nbconvert_exporter": "python",
   "pygments_lexer": "ipython3",
   "version": "3.11.9"
  }
 },
 "nbformat": 4,
 "nbformat_minor": 5
}
