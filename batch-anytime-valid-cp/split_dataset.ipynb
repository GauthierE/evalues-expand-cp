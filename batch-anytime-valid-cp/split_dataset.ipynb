{
 "cells": [
  {
   "cell_type": "code",
   "execution_count": null,
   "metadata": {},
   "outputs": [],
   "source": [
    "import pandas as pd\n",
    "\n",
    "df = pd.read_csv(\"femnist.csv\") "
   ]
  },
  {
   "cell_type": "code",
   "execution_count": null,
   "metadata": {},
   "outputs": [],
   "source": [
    "from sklearn.model_selection import train_test_split\n",
    "\n",
    "# step 1: identify unique writers\n",
    "unique_writers = df['writer_id'].unique()\n",
    "\n",
    "# step 2: randomly split the writers into 80% for training and 20% for testing\n",
    "train_writers, test_writers = train_test_split(unique_writers, test_size=0.2, random_state=0)\n",
    "\n",
    "# step 3: create the training set by selecting all rows with writers in the writers training set\n",
    "train_df = df[df['writer_id'].isin(train_writers)]\n",
    "\n",
    "# step 4: create the test set by selecting all rows with writers in the writers test set\n",
    "test_df = df[df['writer_id'].isin(test_writers)]\n",
    "\n",
    "print(f\"Training set size: {len(train_df)} rows\")\n",
    "print(f\"Test set size: {len(test_df)} rows\")\n"
   ]
  },
  {
   "cell_type": "code",
   "execution_count": null,
   "metadata": {},
   "outputs": [],
   "source": [
    "train_df.to_csv(\"train.csv\", index=False)\n",
    "test_df.to_csv(\"test.csv\", index=False)"
   ]
  }
 ],
 "metadata": {
  "kernelspec": {
   "display_name": "Python 3",
   "language": "python",
   "name": "python3"
  },
  "language_info": {
   "codemirror_mode": {
    "name": "ipython",
    "version": 3
   },
   "file_extension": ".py",
   "mimetype": "text/x-python",
   "name": "python",
   "nbconvert_exporter": "python",
   "pygments_lexer": "ipython3",
   "version": "3.11.9"
  }
 },
 "nbformat": 4,
 "nbformat_minor": 2
}
